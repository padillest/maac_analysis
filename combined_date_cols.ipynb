{
 "cells": [
  {
   "cell_type": "code",
   "execution_count": 2,
   "id": "a721d45f",
   "metadata": {},
   "outputs": [],
   "source": [
    "import pandas as pd\n",
    "import numpy as np"
   ]
  },
  {
   "cell_type": "markdown",
   "id": "7f09b637",
   "metadata": {},
   "source": [
    "### Create a combined column"
   ]
  },
  {
   "cell_type": "code",
   "execution_count": null,
   "id": "1c1a09d4",
   "metadata": {},
   "outputs": [],
   "source": [
    "def create_combined_col(\n",
    "        data: pd.DataFrame,\n",
    "        date_col: str,\n",
    "        time_col: str) -> pd.DataFrame: \n",
    "    \"\"\"Combine and format the date and time columns.\"\"\"\n",
    "    combined_col = data[date_col] + \" \" + data[time_col]\n",
    "    formatted_col = pd.to_datetime(combined_col, \n",
    "                                   format = \"%d/%m/%Y %H:%M:%S\")\n",
    "    return formatted_col"
   ]
  },
  {
   "cell_type": "markdown",
   "id": "6feaf441",
   "metadata": {},
   "source": [
    "### Clean all DataTime variables"
   ]
  },
  {
   "cell_type": "code",
   "execution_count": null,
   "id": "4a5c9200",
   "metadata": {},
   "outputs": [],
   "source": [
    "def clean_date_format(\n",
    "        data_frame: pd.DataFrame,\n",
    "        start_col: str,\n",
    "        submit_col: str,\n",
    "        trigger_col: str) -> pd.DataFrame:\n",
    "    \"\"\"Formats the date columns accordingly.\"\"\"\n",
    "    data = data_frame.copy()\n",
    "    \n",
    "    # Start Column \n",
    "    data[start_col] = create_combined_col(data = data, \n",
    "                                          date_col = \"Survey Started Date\", \n",
    "                                          time_col = \"Survey Started Time\")\n",
    "    \n",
    "    # Submit Column \n",
    "    data[submit_col] = create_combined_col(data = data, \n",
    "                                           date_col = \"Survey Submitted Date\", \n",
    "                                           time_col = \"Survey Submitted Time\")\n",
    "    \n",
    "    # Trigger Column \n",
    "    data[trigger_col] = create_combined_col(data = data,\n",
    "                                            date_col = \"Trigger Date\", \n",
    "                                            time_col = \"Trigger Time\")\n",
    "    \n",
    "    data = data.sort_values(by = [\"First Name\", submit_col]).reset_index(drop = True)\n",
    "    \n",
    "    return data "
   ]
  }
 ],
 "metadata": {
  "kernelspec": {
   "display_name": "Python 3 (ipykernel)",
   "language": "python",
   "name": "python3"
  },
  "language_info": {
   "codemirror_mode": {
    "name": "ipython",
    "version": 3
   },
   "file_extension": ".py",
   "mimetype": "text/x-python",
   "name": "python",
   "nbconvert_exporter": "python",
   "pygments_lexer": "ipython3",
   "version": "3.9.13"
  }
 },
 "nbformat": 4,
 "nbformat_minor": 5
}
