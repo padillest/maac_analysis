{
 "cells": [
  {
   "cell_type": "code",
   "execution_count": 1,
   "id": "3e497dca",
   "metadata": {},
   "outputs": [],
   "source": [
    "import pandas as pd\n",
    "import numpy as np"
   ]
  },
  {
   "cell_type": "markdown",
   "id": "b3bc9b54",
   "metadata": {},
   "source": [
    "### Merge New Use and Follow Up dataframes"
   ]
  },
  {
   "cell_type": "code",
   "execution_count": 2,
   "id": "2a510049",
   "metadata": {},
   "outputs": [],
   "source": [
    "def merge_dataframes(\n",
    "        df1: pd.DataFrame,\n",
    "        df2: pd.DataFrame) -> pd.DataFrame:\n",
    "    \"\"\"Merges two dataframes\"\"\"\n",
    "    merged_data = pd.concat(objs = [df1, df2],\n",
    "                           ignore_index = True) \n",
    "    return merged_data"
   ]
  },
  {
   "cell_type": "markdown",
   "id": "ae2cf477",
   "metadata": {},
   "source": [
    "### Create an ID column"
   ]
  },
  {
   "cell_type": "code",
   "execution_count": 3,
   "id": "2f4f7d44",
   "metadata": {},
   "outputs": [],
   "source": [
    "def update_id(data_frame: pd.DataFrame) -> pd.DataFrame:\n",
    "    \"\"\"Updates an integer ID column.\"\"\"\n",
    "    data = data_frame.assign(id = data_frame['First Name'].str[:4])\n",
    "    data = data.astype({'id':'int'})\n",
    "    \n",
    "    return data"
   ]
  },
  {
   "cell_type": "code",
   "execution_count": 4,
   "id": "d9a0d442",
   "metadata": {},
   "outputs": [],
   "source": [
    "merge_rename = {\n",
    "    \"used_alcohol\":\"Which of the following have you used?_Alcohol\",\n",
    "    \"used_cannabis\":\"Which of the following have you used?_Cannabis\",\n",
    "    \"used_tobacco/nicotine\":\"Which of the following have you used?_Tobacco/Nicotine\",\n",
    "    \"used_other_drug\":\"Which of the following have you used?_Other Drug\",\n",
    "    \"used_none\":\"Which of the following have you used?_None of the above\",\n",
    "    \"finish_recent_drink\": \"How long ago did you finish your most recent drink?\",\n",
    "    \"num_sd\":\"How many standard drinks have you consumed (NOT including any unfinished drink you are currently drinking, if applicable)?(Click the link below for Standard Drink Quantity image).\",\n",
    "    \"time_since_finish_cannabis\": \"How long ago did you finish your most recent joint, bowl, edible, or form of cannabis?\",\n",
    "    \"time_since_cannabis_session\": \"How long ago did you start your most recent cannabis session?(includes the current cannabis session if applicable)\",\n",
    "    \"cannabis_smoked\": \"How have you consumed cannabis?_Smoked\", \n",
    "    \"cannabis_vape\": \"How have you consumed cannabis?_Vapourized\", \n",
    "    \"cannabis_ate_drank\": \"How have you consumed cannabis?_Ate or drank\", \n",
    "    \"cannabis_other\": \"How have you consumed cannabis?_Other\", \n",
    "    \"cannabis_form_marijuana\": \"What form of cannabis have you used?_Marijuana\",\n",
    "    \"cannabis_form_concentrates\": \"What form of cannabis have you used?_Concentrates (e.g., Oil, Wax, Shatter, Butane Hash Oil, Dabs)\",\n",
    "    \"cannabis_form_edibles\": \"What form of cannabis have you used?_Edibles\",\n",
    "    \"cannabis_form_beverages\": \"What form of cannabis have you used?_Cannabis beverages\",\n",
    "    \"cannabis_form_other\": \"What form of cannabis have you used?_Other\",\n",
    "    \"concentrates_hits\": \"How many hits of cannabis concentrates did you personally take?\",\n",
    "    \"edible_baked\":\"What type of edible(s) did you eat?_Baked goods (brownies, cookies, etc.)\",\n",
    "    \"edible_candy\":\"What type of edible(s) did you eat?_Candies (gummies, mints, etc.)\",\n",
    "    \"edible_chocolate\": \"What type of edible(s) did you eat?_Chocolates\",\n",
    "    \"edible_other\": \"What type of edible(s) did you eat?_Other\",\n",
    "    \"edible_servings\": \"How many edible servings (e.g., number of cookies, number of chocolates) did you personally eat?\",\n",
    "    \"edible_beverage_consumed\": \"How many cannabis beverages have you consumed?\",\n",
    "    \"motives_cannabis_relax\": \"What were your motivations for using cannabis?_To relax\", \n",
    "    \"motives_cannabis_de_stress\": \"What were your motivations for using cannabis?_To de-stress/calm down\", \n",
    "    \"motives_cannabis_fit_in\": \"What were your motivations for using cannabis?_To fit in\", \n",
    "    \"motives_cannabis_socialize\": \"What were your motivations for using cannabis?_To socialize\", \n",
    "    \"motives_cannabis_celebrate\": \"What were your motivations for using cannabis?_To celebrate/have fun\", \n",
    "    \"motives_cannabis_increase_pos_eff_alc\": \"What were your motivations for using cannabis?_To increase the positive effects of alcohol\", \n",
    "    \"motives_cannabis_decrease_neg_eff_alc\": \"What were your motivations for using cannabis?_To decrease the negative effects of alcohol\", \n",
    "    \"motives_cannabis_drink_less\":\"What were your motivations for using cannabis?_To drink less alcohol\",\n",
    "    \"motives_cannabis_drink_more\":\"What were your motivations for using cannabis?_To be able to drink more alcohol\",\n",
    "    \"motives_cannabis_none\": \"What were your motivations for using cannabis?_None of the above\",  \n",
    "    \"motives_alcohol_relax\": \"What were your motivations for using alcohol?_To relax\", \n",
    "    \"motives_alcohol_de_stress\": \"What were your motivations for using alcohol?_To de-stress/calm down\", \n",
    "    \"motives_alcohol_fit_in\": \"What were your motivations for using alcohol?_To fit in\", \n",
    "    \"motives_alcohol_socialize\": \"What were your motivations for using alcohol?_To socialize\", \n",
    "    \"motives_alcohol_celebrate\": \"What were your motivations for using alcohol?_To celebrate/have fun\", \n",
    "    \"motives_alcohol_increase_pos_eff_alc\": \"What were your motivations for using alcohol?_To increase the positive effects of cannabis\", \n",
    "    \"motives_alcohol_decrease_neg_eff_alc\": \"What were your motivations for using alcohol?_To decrease the negative effects of cannabis\", \n",
    "    \"motives_alcohol_smoke_less\":\"What were your motivations for using alcohol?_To use less cannabis\",\n",
    "    \"motives_alcohol_smoke_more\":\"What were your motivations for using alcohol?_To be able to use more cannabis\",\n",
    "    \"motives_alcohol_none\": \"What were your motivations for using alcohol?_None of the above\",\n",
    "    \"who_cannabis_alone\":\"Who have you been with when using cannabis?_Alone\",\n",
    "    \"who_cannabis_partner_spouse\":\"Who have you been with when using cannabis?_Partner/Spouse\",\n",
    "    \"who_cannabis_friend\":\"Who have you been with when using cannabis?_Friend\",\n",
    "    \"who_cannabis_stranger_acquaintance\":\"Who have you been with when using cannabis?_Stranger/Acquaintance\",\n",
    "    \"who_cannabis_co_worker\":\"Who have you been with when using cannabis?_Co-worker\",\n",
    "    \"who_cannabis_parent\":\"Who have you been with when using cannabis?_Parent\",\n",
    "    \"who_cannabis_other_family\":\"Who have you been with when using cannabis?_Other family\",\n",
    "    \"who_cannabis_other\":\"Who have you been with when using cannabis?_Other\",\n",
    "    \"who_alcohol_alone\":\"Who have you been with when using alcohol?_Alone\",\n",
    "    \"who_alcohol_partner_spouse\":\"Who have you been with when using alcohol?_Partner/Spouse\",\n",
    "    \"who_alcohol_friend\":\"Who have you been with when using alcohol?_Friend\",\n",
    "    \"who_alcohol_stranger_acquaintance\":\"Who have you been with when using alcohol?_Stranger/Acquaintance\",\n",
    "    \"who_alcohol_co_worker\":\"Who have you been with when using alcohol?_Co-worker\",\n",
    "    \"who_alcohol_parent\":\"Who have you been with when using alcohol?_Parent\",\n",
    "    \"who_alcohol_other_family\":\"Who have you been with when using alcohol?_Other family\",\n",
    "    \"who_alcohol_other\":\"Who have you been with when using alcohol?_Other\",\n",
    "    \"where_cannabis_bar\":\"Where have you used cannabis?_Bar\",\n",
    "    \"where_cannabis_restaurant\":\"Where have you used cannabis?_Restaurant\",\n",
    "    \"where_cannabis_party\":\"Where have you used cannabis?_Party\",\n",
    "    \"where_cannabis_home\":\"Where have you used cannabis?_Home\",\n",
    "    \"where_cannabis_someone_home\":\"Where have you used cannabis?_Someone else's home\",\n",
    "    \"where_cannabis_outside\":\"Where have you used cannabis?_Outside\",\n",
    "    \"where_cannabis_vehicle\":\"Where have you used cannabis?_Vehicle\",\n",
    "    \"where_cannabis_work\":\"Where have you used cannabis?_Work\",\n",
    "    \"where_cannabis_school\":\"Where have you used cannabis?_School\",\n",
    "    \"where_cannabis_other_event\":\"Where have you used cannabis?_Other event (e.g., concert, wedding)\",\n",
    "    \"where_cannabis_other\":\"Where have you used cannabis?_Other\",\n",
    "    \"where_alcohol_bar\":\"Where have you used alcohol?_Bar\",\n",
    "    \"where_alcohol_restaurant\":\"Where have you used alcohol?_Restaurant\",\n",
    "    \"where_alcohol_party\":\"Where have you used alcohol?_Party\",\n",
    "    \"where_alcohol_home\":\"Where have you used alcohol?_Home\",\n",
    "    \"where_alcohol_someone_home\":\"Where have you used alcohol?_Someone else's home\",\n",
    "    \"where_alcohol_outside\":\"Where have you used alcohol?_Outside\",\n",
    "    \"where_alcohol_vehicle\":\"Where have you used alcohol?_Vehicle\",\n",
    "    \"where_alcohol_work\":\"Where have you used alcohol?_Work\",\n",
    "    \"where_alcohol_school\":\"Where have you used alcohol?_School\",\n",
    "    \"where_alcohol_other_event\":\"Where have you used alcohol?_Other event (e.g., concert, wedding)\",\n",
    "    \"where_alcohol_other\":\"Where have you used alcohol?_Other\",\n",
    "    \"max_planned_sd\":\"What is the MAXIMUM number of standard drinks you plan to drink today (including any drinks you have already had today)?(note: enter 99 if you have no set limit)(Click the link below for Standard Drink Quantity image). \",\n",
    "    \"max_planned_cannabis\": \"What is the MAXIMUM amount of marijuana you plan to use today (including any marijuana you already used today)?\",\n",
    "    \"how_tobacco_cigarette\":\"How have you used tobacco/nicotine?_Cigarettes\",\n",
    "    \"how_tobacco_cigar\":\"How have you used tobacco/nicotine?_Cigars\",\n",
    "    \"how_tobacco_vapour\":\"How have you used tobacco/nicotine?_Vapourizor\",\n",
    "    \"how_tobacco_mixed\":\"How have you used tobacco/nicotine?_Tobacco mixed with cannabis (e.g., in a joint, blunt, bowl)\",\n",
    "    \"how_tobacco_other\":\"How have you used tobacco/nicotine?_Other (e.g., chew, nicotine replacement)\"    \n",
    "}"
   ]
  }
 ],
 "metadata": {
  "kernelspec": {
   "display_name": "Python 3 (ipykernel)",
   "language": "python",
   "name": "python3"
  },
  "language_info": {
   "codemirror_mode": {
    "name": "ipython",
    "version": 3
   },
   "file_extension": ".py",
   "mimetype": "text/x-python",
   "name": "python",
   "nbconvert_exporter": "python",
   "pygments_lexer": "ipython3",
   "version": "3.9.13"
  }
 },
 "nbformat": 4,
 "nbformat_minor": 5
}
