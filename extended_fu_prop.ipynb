{
 "cells": [
  {
   "cell_type": "code",
   "execution_count": 1,
   "id": "36ce0e7b",
   "metadata": {},
   "outputs": [],
   "source": [
    "import pandas as pd \n",
    "import numpy as np"
   ]
  },
  {
   "cell_type": "markdown",
   "id": "815b7d10",
   "metadata": {},
   "source": [
    "### Check for extended Follow Ups"
   ]
  },
  {
   "cell_type": "code",
   "execution_count": 2,
   "id": "cb2c29d7",
   "metadata": {},
   "outputs": [],
   "source": [
    "def check_extended_fu(\n",
    "        data: pd.DataFrame,\n",
    "        i: int) -> bool: \n",
    "    \"\"\"Checks if a session has an extended Follow Up.\"\"\"\n",
    "    return data.at[i, \"extended_fu\"] == 1"
   ]
  },
  {
   "cell_type": "markdown",
   "id": "4a370921",
   "metadata": {},
   "source": [
    "### Survey type"
   ]
  },
  {
   "cell_type": "code",
   "execution_count": 3,
   "id": "977708e2",
   "metadata": {},
   "outputs": [],
   "source": [
    "def check_survey(\n",
    "        data: pd.DataFrame, \n",
    "        i: int) -> bool: \n",
    "    \"\"\"Checks the survey type.\"\"\"\n",
    "    return data.at[i, \"Survey Name\"] == \"New Use Survey\""
   ]
  },
  {
   "cell_type": "markdown",
   "id": "f3b1bc00",
   "metadata": {},
   "source": [
    "### Stop rules"
   ]
  },
  {
   "cell_type": "code",
   "execution_count": 4,
   "id": "51690f24",
   "metadata": {},
   "outputs": [],
   "source": [
    "def check_half_stop(\n",
    "        data: pd.DataFrame,\n",
    "        i: int,\n",
    "        total: int) -> None:\n",
    "    \"\"\"Checks the half stop rule sessions.\"\"\"\n",
    "    if data.at[i, \"met_stop_rule\"] != 1:\n",
    "        if data.at[i, \"one_met_stop_rule\"] == 1: \n",
    "            data.at[i, \"ex_fu_prop\"] = total/(total+1)\n",
    "        else:\n",
    "            data.at[i, \"ex_fu_prop\"] = total/(total+2)"
   ]
  },
  {
   "cell_type": "code",
   "execution_count": 5,
   "id": "9d4ccd61",
   "metadata": {},
   "outputs": [],
   "source": [
    "def check_stop_rule(\n",
    "        data: pd.DataFrame, \n",
    "        i: int) -> None: \n",
    "    \"\"\"Checks if the stop rule was met.\"\"\"\n",
    "    if data.at[i, \"met_stop_rule\"] == 1: \n",
    "        data.at[i, \"ex_fu_prop\"] = 1"
   ]
  }
 ],
 "metadata": {
  "kernelspec": {
   "display_name": "Python 3 (ipykernel)",
   "language": "python",
   "name": "python3"
  },
  "language_info": {
   "codemirror_mode": {
    "name": "ipython",
    "version": 3
   },
   "file_extension": ".py",
   "mimetype": "text/x-python",
   "name": "python",
   "nbconvert_exporter": "python",
   "pygments_lexer": "ipython3",
   "version": "3.9.13"
  }
 },
 "nbformat": 4,
 "nbformat_minor": 5
}
