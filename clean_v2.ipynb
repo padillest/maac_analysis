{
 "cells": [
  {
   "cell_type": "markdown",
   "id": "6ae157dc",
   "metadata": {},
   "source": [
    "### Date: March 7, 2023"
   ]
  },
  {
   "cell_type": "code",
   "execution_count": 1,
   "id": "75f4846a",
   "metadata": {},
   "outputs": [
    {
     "name": "stdout",
     "output_type": "stream",
     "text": [
      "importing Jupyter notebook from combined_date_cols.ipynb\n",
      "importing Jupyter notebook from data_cleaning.ipynb\n",
      "importing Jupyter notebook from data_merge.ipynb\n",
      "importing Jupyter notebook from extended_fu_prop.ipynb\n",
      "importing Jupyter notebook from extended_fu_variable.ipynb\n",
      "importing Jupyter notebook from met_stopping_rule_variable.ipynb\n",
      "importing Jupyter notebook from session_variable.ipynb\n",
      "importing Jupyter notebook from initial_follow_up.ipynb\n",
      "importing Jupyter notebook from total_follow_up.ipynb\n",
      "importing Jupyter notebook from rogue_session.ipynb\n"
     ]
    }
   ],
   "source": [
    "import pandas as pd \n",
    "import numpy as np\n",
    "import seaborn as sns\n",
    "import import_ipynb\n",
    "\n",
    "import combined_date_cols\n",
    "import data_cleaning\n",
    "import data_merge\n",
    "import extended_fu_prop\n",
    "import extended_fu_variable\n",
    "import met_stopping_rule_variable\n",
    "import session_variable\n",
    "import initial_follow_up\n",
    "import total_follow_up\n",
    "import rogue_session\n",
    "\n",
    "from statistics import mean\n",
    "from datetime import timedelta\n",
    "from datetime import datetime"
   ]
  },
  {
   "cell_type": "code",
   "execution_count": 2,
   "id": "35275f7e",
   "metadata": {},
   "outputs": [
    {
     "name": "stderr",
     "output_type": "stream",
     "text": [
      "/var/folders/z3/7rdhq39j3bd3f8cqd48kghgc0000gn/T/ipykernel_5010/3593337333.py:7: FutureWarning: Inferring datetime64[ns] from data containing strings is deprecated and will be removed in a future version. To retain the old behavior explicitly pass Series(data, dtype=datetime64[ns])\n",
      "  maac_baseline = pd.read_excel(\"../maac.xlsx\", \"Enrolled MAAC Participants\")\n"
     ]
    }
   ],
   "source": [
    "new_use = pd.read_csv(\"../new_use_not_clean.csv\",\n",
    "                     low_memory = False)\n",
    "follow_up = pd.read_csv(\"../follow_up_not_clean.csv\",\n",
    "                       low_memory = False)\n",
    "\n",
    "cancog_baseline = pd.read_excel(\"../camh_maac.xlsx\")\n",
    "maac_baseline = pd.read_excel(\"../maac.xlsx\", \"Enrolled MAAC Participants\")"
   ]
  },
  {
   "cell_type": "markdown",
   "id": "78ee984b",
   "metadata": {},
   "source": [
    "### Main data cleaning"
   ]
  },
  {
   "cell_type": "code",
   "execution_count": 3,
   "id": "2e9151c6",
   "metadata": {},
   "outputs": [],
   "source": [
    "new_use_data = data_cleaning.main_cleaning(data_frame = new_use,\n",
    "                             time_point = \"baseline\", \n",
    "                             id_col = \"First Name\", \n",
    "                             email_col = \"Email\")\n",
    "                        \n",
    "follow_up_data = data_cleaning.main_cleaning(data_frame = follow_up, \n",
    "                              time_point = \"baseline\",\n",
    "                              id_col = \"First Name\",\n",
    "                              email_col = \"Email\")"
   ]
  },
  {
   "cell_type": "markdown",
   "id": "9f4d3431",
   "metadata": {},
   "source": [
    "### Drop New Use episodes without substance use"
   ]
  },
  {
   "cell_type": "code",
   "execution_count": 4,
   "id": "1763d52e",
   "metadata": {},
   "outputs": [],
   "source": [
    "no_use = new_use_data[(new_use_data[\"Which of the following have you used within the past 2 hours?_Alcohol\"] == \"0\") & (new_use_data[\"Which of the following have you used within the past 2 hours?_Cannabis\"] == \"0\")]"
   ]
  },
  {
   "cell_type": "code",
   "execution_count": 5,
   "id": "8098a676",
   "metadata": {},
   "outputs": [],
   "source": [
    "new_use_data = new_use_data.drop(no_use.index, axis = 0).reset_index(drop = True)"
   ]
  },
  {
   "cell_type": "code",
   "execution_count": 6,
   "id": "fd5b174c",
   "metadata": {},
   "outputs": [],
   "source": [
    "nu_rename = {\n",
    "    \"&nbsp;\": \" \",\n",
    "    \" within the past 2 hours\": \"\",\n",
    "    \"in the past 2 hours\": \"\",\n",
    "    \" .\": \".\",\n",
    "    \" ?\": \"?\",\n",
    "    \"\\xa0\": \"\",\n",
    "    \"(Click the link to view Marijuana Quantity image if necessary)\": \"\",\n",
    "    \"  \": \" \",\n",
    "    \" _\": \"_\",\n",
    "    \" (check all that apply)\": \"\",\n",
    "    \" other form\": \" form\",\n",
    "    \"etc)\": \"etc.)\",\n",
    "    \"drug\": \"Drug\"\n",
    "}\n",
    "\n",
    "fu_rename = {\n",
    "    \"&nbsp;\": \" \",\n",
    "    \" since the last survey\": \"\",\n",
    "    \"since the last survey\": \"\",\n",
    "    \" _\": \"_\",\n",
    "    \"other form\": \"form\",\n",
    "    \"(Click the link below for Standard Marijuana Quantity image). \": \"\",\n",
    "    \" (check all that apply)\": \"\",\n",
    "    \"Approximately h\": \"H\",\n",
    "    \"Chocolate\": \"Chocolates\",\n",
    "    \"positive effect\": \"positive effects\",\n",
    "    \"consumed? \": \"consumed?\",\n",
    "    \"None of the Above\": \"None of the above\", \n",
    "    \"alcohol right now? \": \"alcohol right now?\",\n",
    "    \"What were your motivations for using cannabis?_To increase the positive effectss of alcohol\": \"What were your motivations for using cannabis?_To increase the positive effects of alcohol\"\n",
    "    \n",
    "}"
   ]
  },
  {
   "cell_type": "code",
   "execution_count": 7,
   "id": "a84da82d",
   "metadata": {},
   "outputs": [],
   "source": [
    "nu = new_use_data.columns.tolist()\n",
    "fu = follow_up_data.columns.tolist()\n",
    "\n",
    "for key in nu_rename: \n",
    "    nu = [x.replace(key, nu_rename[key]) for x in nu]\n",
    "    \n",
    "for key in fu_rename: \n",
    "    fu = [x.replace(key, fu_rename[key]) for x in fu]"
   ]
  },
  {
   "cell_type": "code",
   "execution_count": 8,
   "id": "adf9291c",
   "metadata": {},
   "outputs": [],
   "source": [
    "nu_map = dict(zip(new_use_data.columns.tolist(), nu))\n",
    "fu_map = dict(zip(follow_up_data.columns.tolist(), fu))\n",
    "\n",
    "new_use_data = new_use_data.rename(mapper = nu_map,\n",
    "                                   axis = 1)\n",
    "\n",
    "follow_up_data = follow_up_data.rename(mapper = fu_map,\n",
    "                                      axis = 1)"
   ]
  },
  {
   "cell_type": "markdown",
   "id": "076704fb",
   "metadata": {},
   "source": [
    "### Merging dataframes"
   ]
  },
  {
   "cell_type": "code",
   "execution_count": 9,
   "id": "a93247c8",
   "metadata": {},
   "outputs": [],
   "source": [
    "merge = data_merge.merge_dataframes(new_use_data, follow_up_data)"
   ]
  },
  {
   "cell_type": "code",
   "execution_count": 10,
   "id": "33c6871b",
   "metadata": {},
   "outputs": [],
   "source": [
    "merge_rename = {v: k for k, v in data_merge.merge_rename.items()}"
   ]
  },
  {
   "cell_type": "code",
   "execution_count": 11,
   "id": "27944d76",
   "metadata": {},
   "outputs": [],
   "source": [
    "merge.rename(columns = merge_rename, inplace = True)"
   ]
  },
  {
   "cell_type": "code",
   "execution_count": 12,
   "id": "68080c9e",
   "metadata": {},
   "outputs": [],
   "source": [
    "merge = data_merge.update_id(data_frame = merge)"
   ]
  },
  {
   "cell_type": "markdown",
   "id": "07a19d9f",
   "metadata": {},
   "source": [
    "### Clean date format"
   ]
  },
  {
   "cell_type": "code",
   "execution_count": 13,
   "id": "2f4597ce",
   "metadata": {},
   "outputs": [],
   "source": [
    "merge_clean = combined_date_cols.clean_date_format(data_frame = merge, \n",
    "                                                   start_col = \"survey_start\",\n",
    "                                                   submit_col = \"survey_submit\",\n",
    "                                                   trigger_col = \"trigger\")"
   ]
  },
  {
   "cell_type": "markdown",
   "id": "b7e8364a",
   "metadata": {},
   "source": [
    "### Compute 'Session' variable"
   ]
  },
  {
   "cell_type": "code",
   "execution_count": 14,
   "id": "8c510412",
   "metadata": {},
   "outputs": [],
   "source": [
    "# Create column\n",
    "baseline = merge_clean.copy() \n",
    "baseline[\"session\"] = pd.Series(int)\n",
    "\n",
    "# Store global variable\n",
    "SESSION = 1\n",
    "\n",
    "# Iterate through the dataframe\n",
    "for i in baseline.index: \n",
    "    # Input data\n",
    "    baseline.at[i, \"session\"] = SESSION\n",
    "    # Check if at new participant data or at the end of the data\n",
    "    if session_variable.check_participant_end(data = baseline, i = i): \n",
    "        SESSION = 1\n",
    "    else:\n",
    "        # Check if at the end of a use session\n",
    "        if session_variable.check_session_end(data = baseline, i = i): \n",
    "            SESSION += 1"
   ]
  },
  {
   "cell_type": "markdown",
   "id": "43377fc8",
   "metadata": {},
   "source": [
    "### Compute 'Day Number' variable"
   ]
  },
  {
   "cell_type": "markdown",
   "id": "3e1cf476",
   "metadata": {},
   "source": [
    "#### CanCog Data "
   ]
  },
  {
   "cell_type": "code",
   "execution_count": 15,
   "id": "25d306fc",
   "metadata": {},
   "outputs": [],
   "source": [
    "camh = cancog_baseline[[\"Study ID\", \"Date of Baseline(mm/dd/yyy)\"]]\n",
    "\n",
    "camh = camh.dropna(subset = [\"Study ID\", \"Date of Baseline(mm/dd/yyy)\"]).reset_index(drop = True)\n",
    "\n",
    "camh[\"Study ID\"] = camh[\"Study ID\"].astype(int)\n",
    "\n",
    "camh[\"date\"] = camh[\"Date of Baseline(mm/dd/yyy)\"]"
   ]
  },
  {
   "cell_type": "markdown",
   "id": "d7df3ec3",
   "metadata": {},
   "source": [
    "#### MAAC Data"
   ]
  },
  {
   "cell_type": "code",
   "execution_count": 16,
   "id": "b58fe539",
   "metadata": {},
   "outputs": [],
   "source": [
    "maac = maac_baseline[[\"Study ID\", \"Date of Baseline Interview (yyyy-mm-dd) \"]] \n",
    "\n",
    "maac = maac.dropna().reset_index(drop = True)\n",
    "\n",
    "maac[\"Study ID\"] = maac[\"Study ID\"].astype(int)\n",
    "\n",
    "maac[\"Date of Baseline Interview (yyyy-mm-dd) \"] = maac[\"Date of Baseline Interview (yyyy-mm-dd) \"].astype(str)\n",
    "\n",
    "for i in maac.index:\n",
    "    maac.at[i, \"date\"] = maac.at[i, \"Date of Baseline Interview (yyyy-mm-dd) \"][:10]\n",
    "    \n",
    "maac[\"date\"] = pd.to_datetime(maac[\"date\"])"
   ]
  },
  {
   "cell_type": "markdown",
   "id": "aba25857",
   "metadata": {},
   "source": [
    "#### Combined dataframe"
   ]
  },
  {
   "cell_type": "code",
   "execution_count": 17,
   "id": "ca0502a4",
   "metadata": {},
   "outputs": [],
   "source": [
    "baseline_date = pd.concat([camh, maac])\n",
    "\n",
    "baseline_date_data = baseline_date[[\"Study ID\", \"date\"]].dropna().reset_index(drop = True)\n",
    "\n",
    "baseline_date_data[\"baseline_date\"] = baseline_date_data[\"date\"] + timedelta(hours = 7)"
   ]
  },
  {
   "cell_type": "markdown",
   "id": "48987354",
   "metadata": {},
   "source": [
    "#### Formatting with ID"
   ]
  },
  {
   "cell_type": "code",
   "execution_count": 18,
   "id": "6b29de3e",
   "metadata": {},
   "outputs": [],
   "source": [
    "baseline[\"baseline_date\"] = pd.Series(int)\n",
    "\n",
    "for i in baseline_date_data.index: \n",
    "    for j in baseline.index:\n",
    "        if baseline_date_data.at[i, \"Study ID\"] == baseline.at[j, \"id\"]: \n",
    "            baseline.at[j, \"baseline_date\"] = baseline_date_data.at[i, \"baseline_date\"]"
   ]
  },
  {
   "cell_type": "code",
   "execution_count": 19,
   "id": "edd87578",
   "metadata": {},
   "outputs": [],
   "source": [
    "for i in baseline.index: \n",
    "    baseline.at[i, \"day\"] = (baseline.at[i, \"survey_submit\"] - baseline.at[i, \"baseline_date\"]).total_seconds()//(60*60*24)"
   ]
  },
  {
   "cell_type": "markdown",
   "id": "4b2239a8",
   "metadata": {},
   "source": [
    "#### Correcting start and end dates "
   ]
  },
  {
   "cell_type": "code",
   "execution_count": 20,
   "id": "f454d90a",
   "metadata": {},
   "outputs": [],
   "source": [
    "for i in baseline.index:\n",
    "    if baseline.at[i, \"day\"] < 0: \n",
    "        baseline.at[i, \"day\"] = 0\n",
    "    elif baseline.at[i, \"day\"] > 21: \n",
    "        baseline.at[i, \"day\"] = 21"
   ]
  },
  {
   "cell_type": "markdown",
   "id": "b98a0669",
   "metadata": {},
   "source": [
    "### Compute the 'Time Since' variable"
   ]
  },
  {
   "cell_type": "code",
   "execution_count": 21,
   "id": "0301492f",
   "metadata": {},
   "outputs": [],
   "source": [
    "baseline = baseline.copy()\n",
    "baseline[\"time_since_minutes\"] = pd.Series(int)\n",
    "\n",
    "# Iterate through data\n",
    "for i in baseline.index: \n",
    "    # Store survey type \n",
    "    survey_type = baseline.at[i, \"Survey Name\"]\n",
    "    if survey_type != \"New Use Survey\": \n",
    "        # Compute difference\n",
    "        time_since = baseline.at[i, \"survey_submit\"] - trigger\n",
    "        # Populate column\n",
    "        baseline.at[i, \"time_since_minutes\"] = int((time_since.seconds)/60)\n",
    "        # Update previous survey\n",
    "        trigger = baseline.at[i, \"survey_submit\"]\n",
    "    else:\n",
    "        trigger = baseline.at[i, \"survey_submit\"]\n",
    "        # Set time since to zero \n",
    "        baseline.at[i, \"time_since_minutes\"] = 0"
   ]
  },
  {
   "cell_type": "markdown",
   "id": "0f15fa53",
   "metadata": {},
   "source": [
    "### 'Initial Follow Up' variable"
   ]
  },
  {
   "cell_type": "code",
   "execution_count": 22,
   "id": "be384035",
   "metadata": {},
   "outputs": [],
   "source": [
    "baseline = baseline.copy()\n",
    "\n",
    "baseline['initial_follow_up'] = pd.Series(int) \n",
    "baseline[\">_2_init\"] = pd.Series(int)\n",
    "count = 0\n",
    "\n",
    "# Iterate through the data\n",
    "for i in baseline.index: \n",
    "    # Row check\n",
    "    if (i != (len(baseline.index)-1)):\n",
    "        # Store survey type \n",
    "        survey_type = baseline.at[i, \"Survey Name\"]\n",
    "        next_survey_type = baseline.at[i+1, \"Survey Name\"]\n",
    "        # Type check\n",
    "        if (survey_type == \"New Use Survey\"): \n",
    "            # Type check\n",
    "            new_use_idx, submission_window = initial_follow_up.check_next_nu(next_survey_type, baseline, i) #store the index of the NU\n",
    "            baseline.at[new_use_idx, \">_2_init\"] = 0\n",
    "            # store the submission window\n",
    "            \n",
    "        else: # if a FU survey \n",
    "            count = initial_follow_up.incr_count(baseline, i, submission_window, count) # stores the number of surveys within the 2.55 hr window\n",
    "            count = initial_follow_up.populate_session(baseline, next_survey_type, count, new_use_idx)\n",
    "    else: \n",
    "        initial_follow_up.populate_final(baseline, survey_type, submission_window,\n",
    "                      new_use_idx, i, count)\n",
    "        baseline.at[i, \"initial_follow_up\"] = 0"
   ]
  },
  {
   "cell_type": "markdown",
   "id": "5770f1e2",
   "metadata": {},
   "source": [
    "### 'Extended follow up' variable"
   ]
  },
  {
   "cell_type": "code",
   "execution_count": 23,
   "id": "ddeac7df",
   "metadata": {},
   "outputs": [],
   "source": [
    "# Create column\n",
    "baseline[\"extended_fu\"] = pd.Series(int)\n",
    "\n",
    "# Initialize variables\n",
    "SUBMISSION_WINDOW = baseline.at[i, \"survey_submit\"]\n",
    "NU_IDX = 0\n",
    "EXTENDED_FU = 0\n",
    "INITIAL = 0\n",
    "NO_INITIAL_COMPLETE = False\n",
    "SUB_USE = False\n",
    "\n",
    "# Iterate through data\n",
    "for i in baseline.index:\n",
    "    # Store survey type \n",
    "    survey_type = baseline.at[i, \"Survey Name\"]\n",
    "    \n",
    "    if survey_type == \"New Use Survey\":\n",
    "        # Store New Use Session details\n",
    "        NU_IDX, SUBMISSION_WINDOW = extended_fu_variable.store_nu_vals(data = baseline, i = i)\n",
    "    \n",
    "    if survey_type == \"Follow Up Surveys\":\n",
    "        # Check if the Follow Up is within time and whether substances are used\n",
    "        IN_TIME = extended_fu_variable.check_within_time(data = baseline, i = i, submission_window = SUBMISSION_WINDOW)\n",
    "        NO_SUB = extended_fu_variable.check_sub_use_efu(data = baseline, i = i)\n",
    "        \n",
    "        if IN_TIME:\n",
    "            if not NO_SUB:\n",
    "                SUB_USE = True\n",
    "            \n",
    "            # Count the number of initial surveys (2) are completed regardless of substance use\n",
    "            INITIAL +=1\n",
    "        else: \n",
    "            NO_INITIAL_COMPLETE = True\n",
    "    \n",
    "    # Substance(s) used in initial surveys\n",
    "    if INITIAL != 0 and SUB_USE:\n",
    "        EXTENDED_FU = 1\n",
    "    \n",
    "    # No substance(s) used in initial surveys\n",
    "    if INITIAL != 0 and not SUB_USE:\n",
    "        EXTENDED_FU = 0\n",
    "        \n",
    "    # No initial surveys completed\n",
    "    if NO_INITIAL_COMPLETE and INITIAL == 0: \n",
    "        EXTENDED_FU = np.nan\n",
    "    \n",
    "    # Input details to the New Use Survey index\n",
    "    if extended_fu_variable.check_end(data = baseline, i = i): \n",
    "        baseline.at[NU_IDX, \"extended_fu\"] = EXTENDED_FU\n",
    "        # Reset\n",
    "        EXTENDED_FU = 0\n",
    "        INITIAL = 0\n",
    "        NO_INITIAL_COMPLETE = False\n",
    "        SUB_USE = False"
   ]
  },
  {
   "cell_type": "markdown",
   "id": "c11eebc5",
   "metadata": {},
   "source": [
    "### 'Met Stopping Rule' variable"
   ]
  },
  {
   "cell_type": "code",
   "execution_count": 24,
   "id": "9afe9887",
   "metadata": {},
   "outputs": [],
   "source": [
    "baseline[\"met_stop_rule\"] = np.nan\n",
    "baseline[\"one_met_stop_rule\"] = pd.Series(int)\n",
    "\n",
    "nu_idx = 0 \n",
    "count = 0\n",
    "time_window = baseline.at[0, \"survey_submit\"]\n",
    "\n",
    "\n",
    "for i in baseline.index: \n",
    "    survey_type = baseline.at[i, \"Survey Name\"]\n",
    "    # If a NU session, store the variables\n",
    "    nu_idx, time_window, count  = met_stopping_rule_variable.store_nu_vars(data = baseline,\n",
    "                                                                           survey_type = survey_type,\n",
    "                                                                           i = i,\n",
    "                                                                           nu_idx = nu_idx, \n",
    "                                                                           count = count, \n",
    "                                                                           time_window = time_window)\n",
    "    # Check if within time window\n",
    "    if met_stopping_rule_variable.check_fu_window(data = baseline,\n",
    "                       i = i, \n",
    "                       time_window = time_window,\n",
    "                       survey_type = survey_type):\n",
    "        \n",
    "        # Check if substances were used\n",
    "        count = met_stopping_rule_variable.check_sub_use_msr(data = baseline, \n",
    "                                                             i = i, \n",
    "                                                             count = count)\n",
    "        \n",
    "        # Update time window \n",
    "        time_window = met_stopping_rule_variable.update_time_window(data = baseline, \n",
    "                                                                    i = i)\n",
    "    # Check if at the end of the session\n",
    "    if met_stopping_rule_variable.check_session_data_end(data = baseline, \n",
    "                                                         i = i):\n",
    "        met_stopping_rule_variable.populate_nu_idx(data = baseline, \n",
    "                                                   nu_idx = nu_idx, \n",
    "                                                   count = count)"
   ]
  },
  {
   "cell_type": "markdown",
   "id": "e44d0dc3",
   "metadata": {},
   "source": [
    "### 'Total Follow Up' variables"
   ]
  },
  {
   "cell_type": "code",
   "execution_count": 25,
   "id": "cd50b4d7",
   "metadata": {},
   "outputs": [],
   "source": [
    "# Create the column\n",
    "baseline[\"total_fu_num\"] = pd.Series(int)\n",
    "\n",
    "# Create variables\n",
    "nu_idx = 0 \n",
    "time_window = baseline.at[0, \"survey_submit\"]\n",
    "total = 0\n",
    "\n",
    "for i in baseline.index: \n",
    "    # Store the survey type\n",
    "    survey_type = baseline.at[i, \"Survey Name\"]\n",
    "    # If a NU session, store variables \n",
    "    nu_idx, time_window, total = total_follow_up.check_nu_survey(data = baseline, \n",
    "                                                 i = i,\n",
    "                                                 nu_idx = nu_idx, \n",
    "                                                 time_window = time_window, \n",
    "                                                 total = total)\n",
    "    # If a FU survey, check within time\n",
    "    if met_stopping_rule_variable.check_fu_window(data = baseline, \n",
    "                       survey_type = survey_type,\n",
    "                       i = i, \n",
    "                       time_window = time_window): \n",
    "        # Update total \n",
    "        total += 1\n",
    "        # Updates the time window \n",
    "        time_window = met_stopping_rule_variable.update_time_window(data = baseline, \n",
    "                                         i = i)\n",
    "    # Checks if at the end of the session\n",
    "    if met_stopping_rule_variable.check_session_data_end(data = baseline,\n",
    "                         i = i):\n",
    "        # Populate the 'total_fu_num' variable\n",
    "        total_follow_up.populate_total_fu(data = baseline, \n",
    "                          nu_idx = nu_idx,\n",
    "                          total = total)"
   ]
  },
  {
   "cell_type": "markdown",
   "id": "d67a94da",
   "metadata": {},
   "source": [
    "### 'Total Follow Ups Needed' variable"
   ]
  },
  {
   "cell_type": "code",
   "execution_count": 26,
   "id": "c6ba2e3a",
   "metadata": {},
   "outputs": [],
   "source": [
    "# Create column\n",
    "baseline[\"total_fu_needed\"] = pd.Series(int)\n",
    "\n",
    "for i in baseline.index: \n",
    "    # Check if stop rule was met\n",
    "    if baseline.at[i, \"met_stop_rule\"] == 1:\n",
    "        baseline.at[i, \"total_fu_needed\"] = baseline.at[i, \"total_fu_num\"]\n",
    "    else:\n",
    "        # Check if one survey met the stop rule\n",
    "        if baseline.at[i, \"one_met_stop_rule\"] == 1:\n",
    "            baseline.at[i, \"total_fu_needed\"] = baseline.at[i, \"total_fu_num\"]+1 \n",
    "        else:\n",
    "            baseline.at[i, \"total_fu_needed\"] = baseline.at[i, \"total_fu_num\"]+2"
   ]
  },
  {
   "cell_type": "markdown",
   "id": "e9d85a97",
   "metadata": {},
   "source": [
    "### 'Total Follow Up Proportion' variable"
   ]
  },
  {
   "cell_type": "code",
   "execution_count": 27,
   "id": "a4ea803d",
   "metadata": {},
   "outputs": [],
   "source": [
    "# Create column\n",
    "baseline[\"total_fu_prop\"] = pd.Series(int)\n",
    "\n",
    "for i in baseline.index:\n",
    "    # Compute the proportion of the session\n",
    "    baseline.at[i, \"total_fu_prop\"] = baseline.at[i, \"total_fu_num\"]/baseline.at[i, \"total_fu_needed\"]"
   ]
  },
  {
   "cell_type": "markdown",
   "id": "c4e6b73a",
   "metadata": {},
   "source": [
    "### 'Number of Extended Follow Ups Completed' variable"
   ]
  },
  {
   "cell_type": "code",
   "execution_count": 28,
   "id": "ae143648",
   "metadata": {},
   "outputs": [],
   "source": [
    "# Create column\n",
    "baseline[\"num_ex_fu_completed\"] = np.nan\n",
    "\n",
    "for i in baseline.index:\n",
    "    # If session included an extended Follow Up\n",
    "    if baseline.at[i, \"extended_fu\"] == 1:\n",
    "        total = baseline.at[i, \"total_fu_num\"] \n",
    "        initial = baseline.at[i, \"initial_follow_up\"]\n",
    "        baseline.at[i, \"num_ex_fu_completed\"] = total - initial\n",
    "        # Handle error cases\n",
    "        if baseline.at[i, \"num_ex_fu_completed\"] < 0: \n",
    "            baseline.at[i, \"num_ex_fu_completed\"] = 0"
   ]
  },
  {
   "cell_type": "markdown",
   "id": "8bc1429f",
   "metadata": {},
   "source": [
    "### 'Extended Follow Up Proportion' variable"
   ]
  },
  {
   "cell_type": "code",
   "execution_count": 29,
   "id": "b158be79",
   "metadata": {},
   "outputs": [],
   "source": [
    "baseline[\"ex_fu_prop\"] = pd.Series(int)\n",
    "\n",
    "for i in baseline.index:\n",
    "    if extended_fu_prop.check_survey(data = baseline, i = i): \n",
    "        if extended_fu_prop.check_extended_fu(data = baseline, i = i):\n",
    "            total = int(baseline.at[i, \"num_ex_fu_completed\"])\n",
    "            extended_fu_prop.check_stop_rule(data = baseline, i = i)\n",
    "            extended_fu_prop.check_half_stop(data = baseline, i = i, total = total)\n",
    "        else: \n",
    "            baseline.at[i, \"ex_fu_prop\"] = None"
   ]
  },
  {
   "cell_type": "markdown",
   "id": "a2f0fa2f",
   "metadata": {},
   "source": [
    "### New Use dataset"
   ]
  },
  {
   "cell_type": "code",
   "execution_count": 30,
   "id": "dcf43534",
   "metadata": {},
   "outputs": [],
   "source": [
    "baseline_nu = baseline[baseline[\"Survey Name\"] == \"New Use Survey\"].reset_index(drop = True)"
   ]
  },
  {
   "cell_type": "markdown",
   "id": "49a6e5a4",
   "metadata": {},
   "source": [
    "### Average number of initial follow ups per New Use"
   ]
  },
  {
   "cell_type": "code",
   "execution_count": 31,
   "id": "1a20e9c5",
   "metadata": {},
   "outputs": [],
   "source": [
    "baseline_nu[\"init_fu_prop\"] = baseline_nu[\"initial_follow_up\"]/2\n",
    "\n",
    "init_fu_prop = baseline_nu[[\"id\", \"init_fu_prop\"]].groupby(\"id\").mean()\n",
    "\n",
    "init_fu = init_fu_prop.reset_index()\n",
    "\n",
    "baseline[\"init_fu_prop\"] = pd.Series(int)\n",
    "\n",
    "for i in init_fu.index: \n",
    "    for j in baseline.index: \n",
    "        \n",
    "        if init_fu.at[i, \"id\"] == baseline.at[j, \"id\"]: \n",
    "            baseline.at[j, \"init_fu_prop\"] = init_fu.at[i, \"init_fu_prop\"]"
   ]
  },
  {
   "cell_type": "markdown",
   "id": "fcf2b9d8",
   "metadata": {},
   "source": [
    "### Average number of total Follow Up surveys per New Use"
   ]
  },
  {
   "cell_type": "code",
   "execution_count": 32,
   "id": "12e7f5d1",
   "metadata": {},
   "outputs": [],
   "source": [
    "avg_total_fu = baseline_nu[[\"id\", \"total_fu_num\", \"total_fu_needed\"]].groupby(\"id\").sum().reset_index()\n",
    "\n",
    "avg_total_fu[\"avg_total_fu\"] = avg_total_fu[\"total_fu_num\"]/avg_total_fu[\"total_fu_needed\"]\n",
    "\n",
    "baseline[\"total_fu_prop\"] = pd.Series(int)\n",
    "\n",
    "for i in avg_total_fu.index:\n",
    "    for j in baseline.index:\n",
    "        \n",
    "        if avg_total_fu.at[i, \"id\"] == baseline.at[j, \"id\"]: \n",
    "            baseline.at[j, \"total_fu_prop\"] = avg_total_fu.at[i, \"avg_total_fu\"]"
   ]
  },
  {
   "cell_type": "markdown",
   "id": "6f768f81",
   "metadata": {},
   "source": [
    "### Proportion of total Follow Up surveys per New Use"
   ]
  },
  {
   "cell_type": "code",
   "execution_count": 33,
   "id": "51fa0c7f",
   "metadata": {},
   "outputs": [],
   "source": [
    "total_prop = baseline_nu[[\"id\", \"total_fu_prop\"]].groupby(\"id\").mean()\n",
    "total_prop = total_prop.reset_index()\n",
    "\n",
    "baseline[\"avg_fu_prop_part\"] = pd.Series(int)\n",
    "\n",
    "for i in total_prop.index: \n",
    "    for j in baseline.index: \n",
    "        \n",
    "        if total_prop.at[i, \"id\"] == baseline.at[j, \"id\"]: \n",
    "            baseline.at[j, \"avg_fu_prop_part\"] = total_prop.at[i, \"total_fu_prop\"]"
   ]
  },
  {
   "cell_type": "markdown",
   "id": "fe66a071",
   "metadata": {},
   "source": [
    "### Average number of extended Follow Up surveys per New Use"
   ]
  },
  {
   "cell_type": "code",
   "execution_count": 34,
   "id": "f7c2b68b",
   "metadata": {},
   "outputs": [],
   "source": [
    "ex_fu = baseline_nu[[\"id\", \"num_ex_fu_completed\"]].groupby(\"id\").mean()\n",
    "ex_fu = ex_fu.reset_index()\n",
    "\n",
    "baseline[\"ex_fu_avg\"] = pd.Series(int)\n",
    "\n",
    "for i in ex_fu.index: \n",
    "    for j in baseline.index: \n",
    "        \n",
    "        if ex_fu.at[i, \"id\"] == baseline.at[j, \"id\"]: \n",
    "            baseline.at[j, \"ex_fu_avg\"] = ex_fu.at[i, \"num_ex_fu_completed\"]"
   ]
  },
  {
   "cell_type": "markdown",
   "id": "88e42973",
   "metadata": {},
   "source": [
    "### Average extended Follow Up proportion"
   ]
  },
  {
   "cell_type": "code",
   "execution_count": 35,
   "id": "139ecd37",
   "metadata": {},
   "outputs": [],
   "source": [
    "prop_ex_fu = baseline_nu[[\"id\", \"ex_fu_prop\"]].groupby(\"id\").mean()\n",
    "prop_ex_fu = prop_ex_fu.reset_index()\n",
    "\n",
    "baseline[\"ex_fu_prop_part\"] = pd.Series(int)\n",
    "\n",
    "for i in prop_ex_fu.index:\n",
    "    for j in baseline.index: \n",
    "        \n",
    "        if prop_ex_fu.at[i, \"id\"] == baseline.at[j, \"id\"]:\n",
    "            baseline.at[j, \"ex_fu_prop_part\"] = prop_ex_fu.at[i, \"ex_fu_prop\"]"
   ]
  },
  {
   "cell_type": "markdown",
   "id": "7f150b3b",
   "metadata": {},
   "source": [
    "### 'Rogue Session' variable"
   ]
  },
  {
   "cell_type": "code",
   "execution_count": 36,
   "id": "89256927",
   "metadata": {},
   "outputs": [],
   "source": [
    "baseline[\"session_rogue\"] = pd.Series(int)\n",
    "rogue_sess = False\n",
    "\n",
    "for i in baseline.index: \n",
    "    rogue_sess = rogue_session.populate_session_rogue(data = baseline,\n",
    "                                                      idx = i, \n",
    "                                                      rogue_sess = rogue_sess)"
   ]
  },
  {
   "cell_type": "markdown",
   "id": "9c3e66c4",
   "metadata": {},
   "source": [
    "### Output"
   ]
  },
  {
   "cell_type": "code",
   "execution_count": 37,
   "id": "17d208df",
   "metadata": {},
   "outputs": [],
   "source": [
    "baseline.to_excel('merge_v3.xlsx')"
   ]
  }
 ],
 "metadata": {
  "kernelspec": {
   "display_name": "Python 3 (ipykernel)",
   "language": "python",
   "name": "python3"
  },
  "language_info": {
   "codemirror_mode": {
    "name": "ipython",
    "version": 3
   },
   "file_extension": ".py",
   "mimetype": "text/x-python",
   "name": "python",
   "nbconvert_exporter": "python",
   "pygments_lexer": "ipython3",
   "version": "3.9.13"
  }
 },
 "nbformat": 4,
 "nbformat_minor": 5
}
