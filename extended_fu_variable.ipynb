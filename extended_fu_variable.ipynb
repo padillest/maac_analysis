{
 "cells": [
  {
   "cell_type": "code",
   "execution_count": 1,
   "id": "a5614780",
   "metadata": {},
   "outputs": [],
   "source": [
    "import pandas as pd\n",
    "import numpy as np\n",
    "\n",
    "from statistics import mean\n",
    "from datetime import timedelta\n",
    "from datetime import datetime"
   ]
  },
  {
   "cell_type": "markdown",
   "id": "44f59eb7",
   "metadata": {},
   "source": [
    "### Check the end of a session"
   ]
  },
  {
   "cell_type": "code",
   "execution_count": 2,
   "id": "6d33c368",
   "metadata": {},
   "outputs": [],
   "source": [
    "def check_end(\n",
    "        data: pd.DataFrame, \n",
    "        i: int) -> bool: \n",
    "    \"\"\"Checks if at the end of the data or a session.\"\"\"\n",
    "    return i == len(data)-1 or data.at[i+1, \"Survey Name\"] == \"New Use Survey\""
   ]
  },
  {
   "cell_type": "markdown",
   "id": "9aabacef",
   "metadata": {},
   "source": [
    "### Store New Use session details"
   ]
  },
  {
   "cell_type": "code",
   "execution_count": 3,
   "id": "6a5289ee",
   "metadata": {},
   "outputs": [],
   "source": [
    "def store_nu_vals(\n",
    "        data: pd.DataFrame, \n",
    "        i: int) -> int:\n",
    "    \"\"\"Stores the values of a New Use Session\"\"\"\n",
    "    nu_idx = i \n",
    "    submission_window = data.at[i, \"survey_submit\"] + timedelta(minutes = 175)\n",
    "    return nu_idx, submission_window"
   ]
  },
  {
   "cell_type": "markdown",
   "id": "38119b29",
   "metadata": {},
   "source": [
    "### Check if a Follow Up survey is within the time window"
   ]
  },
  {
   "cell_type": "code",
   "execution_count": 4,
   "id": "ebde3697",
   "metadata": {},
   "outputs": [],
   "source": [
    "def check_within_time(\n",
    "        data: pd.DataFrame, \n",
    "        i: int,\n",
    "        submission_window: np.datetime64) -> bool: \n",
    "    \"\"\"Checks if a Follow Up is within the initial surveys.\"\"\"\n",
    "    within_time = data.at[i, \"survey_submit\"] < submission_window\n",
    "    return within_time"
   ]
  },
  {
   "cell_type": "markdown",
   "id": "086c6b06",
   "metadata": {},
   "source": [
    "### Check if substances are used in a Follow Up survey"
   ]
  },
  {
   "cell_type": "code",
   "execution_count": 5,
   "id": "ca7cc15c",
   "metadata": {},
   "outputs": [],
   "source": [
    "def check_sub_use_efu(\n",
    "        data: pd.DataFrame, \n",
    "        i: int) -> bool:\n",
    "    \"\"\"Checks if no substances are used in an initial survey.\"\"\"\n",
    "    no_sub = int(data.at[i, \"used_alcohol\"]) == 0 and int(data.at[i, \"used_cannabis\"]) == 0\n",
    "    return no_sub"
   ]
  }
 ],
 "metadata": {
  "kernelspec": {
   "display_name": "Python 3 (ipykernel)",
   "language": "python",
   "name": "python3"
  },
  "language_info": {
   "codemirror_mode": {
    "name": "ipython",
    "version": 3
   },
   "file_extension": ".py",
   "mimetype": "text/x-python",
   "name": "python",
   "nbconvert_exporter": "python",
   "pygments_lexer": "ipython3",
   "version": "3.9.13"
  }
 },
 "nbformat": 4,
 "nbformat_minor": 5
}
