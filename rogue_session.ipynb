{
 "cells": [
  {
   "cell_type": "code",
   "execution_count": 1,
   "id": "cf09d913",
   "metadata": {},
   "outputs": [],
   "source": [
    "import pandas as pd\n",
    "import numpy as np\n",
    "\n",
    "from statistics import mean\n",
    "from datetime import timedelta\n",
    "from datetime import datetime"
   ]
  },
  {
   "cell_type": "code",
   "execution_count": 2,
   "id": "47910f8e",
   "metadata": {},
   "outputs": [],
   "source": [
    "def populate_session_rogue(data, idx, rogue_sess): \n",
    "    \"\"\"Populates the session rogue column.\"\"\"\n",
    "    \n",
    "    output, rogue_sess = check_time_since(data = data, idx = idx, rogue_sess = rogue_sess)\n",
    "    if (output == 1 or rogue_sess): \n",
    "        data.at[idx, \"session_rogue\"] = None\n",
    "    else: \n",
    "        data.at[idx, \"session_rogue\"] = data.at[idx, \"session\"]\n",
    "    return rogue_sess"
   ]
  },
  {
   "cell_type": "code",
   "execution_count": 3,
   "id": "f40b2bbc",
   "metadata": {},
   "outputs": [],
   "source": [
    "def check_time_since(data, idx, rogue_sess): \n",
    "    \"\"\"Assesses whether the survey was completed within a session time. \n",
    "       Also updates for expired sessions with multiple submissions.\"\"\"\n",
    "    if (data.at[idx, \"time_since_minutes\"] == 0.0):\n",
    "        rogue_sess = False\n",
    "        return 0, rogue_sess\n",
    "    elif (rogue_sess or data.at[idx, \"time_since_minutes\"] > 175): \n",
    "        rogue_sess = True\n",
    "        return 1, rogue_sess\n",
    "    else: \n",
    "        return 0, rogue_sess"
   ]
  }
 ],
 "metadata": {
  "kernelspec": {
   "display_name": "Python 3 (ipykernel)",
   "language": "python",
   "name": "python3"
  },
  "language_info": {
   "codemirror_mode": {
    "name": "ipython",
    "version": 3
   },
   "file_extension": ".py",
   "mimetype": "text/x-python",
   "name": "python",
   "nbconvert_exporter": "python",
   "pygments_lexer": "ipython3",
   "version": "3.9.13"
  }
 },
 "nbformat": 4,
 "nbformat_minor": 5
}
