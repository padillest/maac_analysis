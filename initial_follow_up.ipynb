{
 "cells": [
  {
   "cell_type": "code",
   "execution_count": null,
   "id": "790ccae1",
   "metadata": {},
   "outputs": [],
   "source": [
    "import pandas as pd\n",
    "import numpy as np\n",
    "\n",
    "from statistics import mean\n",
    "from datetime import timedelta\n",
    "from datetime import datetime"
   ]
  },
  {
   "cell_type": "code",
   "execution_count": null,
   "id": "e1ab7611",
   "metadata": {},
   "outputs": [],
   "source": [
    "def check_next_nu(next_survey_type, data, i):\n",
    "    \n",
    "    new_use_idx = 0\n",
    "    submission_window = 0\n",
    "\n",
    "    if (next_survey_type != \"New Use Survey\"):\n",
    "\n",
    "        # Store values\n",
    "        submission_time = data.at[i, \"survey_submit\"]\n",
    "        submission_window = submission_time + timedelta(minutes=175)\n",
    "        new_use_idx = i\n",
    "    \n",
    "    # Populate data\n",
    "    data.at[i, \"initial_follow_up\"] = 0\n",
    "        \n",
    "    return new_use_idx, submission_window"
   ]
  },
  {
   "cell_type": "code",
   "execution_count": null,
   "id": "a801c4b1",
   "metadata": {},
   "outputs": [],
   "source": [
    "def check_comp(count, data, new_use_idx): \n",
    "    \"\"\"Populates the dataset according to the number of FU surveys within the time window.\"\"\"\n",
    "    if count >= 2: \n",
    "        data.at[new_use_idx, \"initial_follow_up\"] = 2\n",
    "        data.at[new_use_idx, \">_2_init\"] = 1\n",
    "    else: \n",
    "        data.at[new_use_idx, \"initial_follow_up\"] = count\n",
    "        data.at[new_use_idx, \">_2_init\"] = 0"
   ]
  },
  {
   "cell_type": "code",
   "execution_count": null,
   "id": "798e47a6",
   "metadata": {},
   "outputs": [],
   "source": [
    "def incr_count(data, i, submission_window, count):\n",
    "    \"\"\"Checks if survey is submitted within the time window.\"\"\"\n",
    "    if (data.at[i, \"survey_submit\"] < submission_window):\n",
    "        count += 1\n",
    "    \n",
    "    return count"
   ]
  },
  {
   "cell_type": "code",
   "execution_count": null,
   "id": "e7418e59",
   "metadata": {},
   "outputs": [],
   "source": [
    "def populate_session(data, next_survey_type, count, new_use_idx): \n",
    "    \"\"\"Checks if the FU survey is the final survey of the session, then checks compliance.\"\"\"\n",
    "    if next_survey_type == \"New Use Survey\": \n",
    "        check_comp(count, data, new_use_idx) # Populates the dataframe \n",
    "        count = 0 # Resets the count variable\n",
    "    \n",
    "    return count"
   ]
  },
  {
   "cell_type": "code",
   "execution_count": null,
   "id": "56c7e937",
   "metadata": {},
   "outputs": [],
   "source": [
    "def populate_final(data, survey_type, submission_window, new_use_idx, i, count):\n",
    "    if (survey_type != \"New Use Survey\"): \n",
    "        count = incr_count(data, i, submission_window, count)\n",
    "        check_comp(count, data, new_use_idx)"
   ]
  }
 ],
 "metadata": {
  "kernelspec": {
   "display_name": "Python 3 (ipykernel)",
   "language": "python",
   "name": "python3"
  },
  "language_info": {
   "codemirror_mode": {
    "name": "ipython",
    "version": 3
   },
   "file_extension": ".py",
   "mimetype": "text/x-python",
   "name": "python",
   "nbconvert_exporter": "python",
   "pygments_lexer": "ipython3",
   "version": "3.9.13"
  }
 },
 "nbformat": 4,
 "nbformat_minor": 5
}
