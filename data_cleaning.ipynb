{
 "cells": [
  {
   "cell_type": "code",
   "execution_count": 1,
   "id": "e5808ea1",
   "metadata": {},
   "outputs": [],
   "source": [
    "import pandas as pd \n",
    "import numpy as np\n",
    "import seaborn as sns\n",
    "\n",
    "from statistics import mean\n",
    "from datetime import timedelta\n",
    "from datetime import datetime"
   ]
  },
  {
   "cell_type": "markdown",
   "id": "b1607369",
   "metadata": {},
   "source": [
    "### Remove null rows ###"
   ]
  },
  {
   "cell_type": "code",
   "execution_count": 2,
   "id": "fe6aa6a0",
   "metadata": {},
   "outputs": [],
   "source": [
    "def remove_null_rows(\n",
    "        data_frame: pd.DataFrame,\n",
    "        email_col: str) -> pd.DataFrame: \n",
    "    \"\"\"Removes null rows from the dataframe.\"\"\"\n",
    "    data = data_frame.dropna(subset = email_col).reset_index(drop = True)\n",
    "\n",
    "    return data"
   ]
  },
  {
   "cell_type": "markdown",
   "id": "ebc3daea",
   "metadata": {},
   "source": [
    "### Remove test rows ### "
   ]
  },
  {
   "cell_type": "code",
   "execution_count": 3,
   "id": "5f3ef8a7",
   "metadata": {},
   "outputs": [],
   "source": [
    "def remove_test_rows(\n",
    "        data_frame: pd.DataFrame,\n",
    "        email_col: str) -> pd.DataFrame: \n",
    "    \"\"\"Removes test participants from the dataframe.\"\"\"\n",
    "    data = data_frame[data_frame[email_col].str[:4].str.isdigit()].reset_index(drop = True)\n",
    "    \n",
    "    return data"
   ]
  },
  {
   "cell_type": "markdown",
   "id": "7a673d08",
   "metadata": {},
   "source": [
    "### Separate data by timepoint "
   ]
  },
  {
   "cell_type": "code",
   "execution_count": 4,
   "id": "b0fac9a9",
   "metadata": {},
   "outputs": [],
   "source": [
    "def separate_time_points(\n",
    "        data_frame: pd.DataFrame, \n",
    "        email_col: str,\n",
    "        time_point: str) -> pd.DataFrame:\n",
    "    \"\"\"Separates data by timepoint.\"\"\"\n",
    "    valid_time_points = {\"baseline\", \"6 month\", \"12 month\"}\n",
    "    if (time_point not in valid_time_points): \n",
    "        raise ValueError(\"time_point must be one of %r,\" % valid_time_points)\n",
    "        \n",
    "    if (time_point == \"baseline\"): \n",
    "        data = data_frame[~data_frame[email_col].str.contains(\"6mo|12mo\")]\n",
    "        \n",
    "    if (time_point == '6 month'): \n",
    "        data = data_frame[data_frame[email_col].str.contains(\"6mo\")]\n",
    "        \n",
    "    if (time_point == \"12 month\"): \n",
    "        data = data_frame[data_frame[email_col].str.contains(\"12mo\")]\n",
    "    \n",
    "    return data.reset_index(drop = True)"
   ]
  },
  {
   "cell_type": "markdown",
   "id": "de900620",
   "metadata": {},
   "source": [
    "### Remove participants"
   ]
  },
  {
   "cell_type": "code",
   "execution_count": 5,
   "id": "90483122",
   "metadata": {},
   "outputs": [],
   "source": [
    "def remove_participants(\n",
    "        data_frame: pd.DataFrame,\n",
    "        id_col) -> pd.DataFrame:\n",
    "    \"\"\"Removes dropped participants.\"\"\"\n",
    "    data = data_frame[data_frame[id_col].str.contains(\n",
    "        \"6089|6093|6096|6097|6099|6100|6102|6104|6105|6110|6111|6112|6113|6114|6115|6116|6117|6118|6120|6127|6128|6139|6154|6166|6172|6176|6178\"\n",
    "    ) == False].reset_index(drop = True)\n",
    "    \n",
    "    return data"
   ]
  },
  {
   "cell_type": "markdown",
   "id": "09856b36",
   "metadata": {},
   "source": [
    "### Main cleaning"
   ]
  },
  {
   "cell_type": "code",
   "execution_count": 6,
   "id": "1fc15ad9",
   "metadata": {},
   "outputs": [],
   "source": [
    "def main_cleaning(\n",
    "        data_frame: pd.DataFrame,\n",
    "        time_point: str,\n",
    "        id_col: str,\n",
    "        email_col: str) -> pd.DataFrame: \n",
    "    \"\"\"Cleans a given dataframe accordingly.\"\"\"\n",
    "    # Remove null rows \n",
    "    data = remove_null_rows(data_frame = data_frame, \n",
    "                            email_col = email_col)\n",
    "    \n",
    "    # Remove test rows \n",
    "    data = remove_test_rows(data_frame = data,\n",
    "                            email_col = email_col) \n",
    "    \n",
    "    # Separate based on time points \n",
    "    data = separate_time_points(data_frame = data,\n",
    "                               email_col = email_col, \n",
    "                               time_point = time_point)\n",
    "    \n",
    "    # Remove dropped participants \n",
    "    data = remove_participants(data_frame = data,\n",
    "                              id_col = id_col) \n",
    "    \n",
    "    return data"
   ]
  }
 ],
 "metadata": {
  "kernelspec": {
   "display_name": "Python 3 (ipykernel)",
   "language": "python",
   "name": "python3"
  },
  "language_info": {
   "codemirror_mode": {
    "name": "ipython",
    "version": 3
   },
   "file_extension": ".py",
   "mimetype": "text/x-python",
   "name": "python",
   "nbconvert_exporter": "python",
   "pygments_lexer": "ipython3",
   "version": "3.9.13"
  }
 },
 "nbformat": 4,
 "nbformat_minor": 5
}
