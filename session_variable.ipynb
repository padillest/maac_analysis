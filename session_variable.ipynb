{
 "cells": [
  {
   "cell_type": "code",
   "execution_count": 3,
   "id": "6359b5f4",
   "metadata": {},
   "outputs": [],
   "source": [
    "import pandas as pd"
   ]
  },
  {
   "cell_type": "markdown",
   "id": "5c3c15b0",
   "metadata": {},
   "source": [
    "### Check if at the end of session and if at the end of a participant's data"
   ]
  },
  {
   "cell_type": "code",
   "execution_count": 4,
   "id": "2e367fa6",
   "metadata": {},
   "outputs": [],
   "source": [
    "def check_participant_end(\n",
    "        data: pd.DataFrame, \n",
    "        i: int) -> bool:\n",
    "    \"\"\"Checks if at the end of participant data.\"\"\"\n",
    "    return i == len(data)-1 or data.at[i, \"id\"] != data.at[i+1, \"id\"]"
   ]
  },
  {
   "cell_type": "code",
   "execution_count": 5,
   "id": "f7e9a541",
   "metadata": {},
   "outputs": [],
   "source": [
    "def check_session_end(\n",
    "        data: pd.DataFrame, \n",
    "        i: int) -> bool:\n",
    "    \"\"\"Checks if at the end of a use session.\"\"\"\n",
    "    return data.at[i+1, \"Survey Name\"] == \"New Use Survey\""
   ]
  }
 ],
 "metadata": {
  "kernelspec": {
   "display_name": "Python 3 (ipykernel)",
   "language": "python",
   "name": "python3"
  },
  "language_info": {
   "codemirror_mode": {
    "name": "ipython",
    "version": 3
   },
   "file_extension": ".py",
   "mimetype": "text/x-python",
   "name": "python",
   "nbconvert_exporter": "python",
   "pygments_lexer": "ipython3",
   "version": "3.9.13"
  }
 },
 "nbformat": 4,
 "nbformat_minor": 5
}
