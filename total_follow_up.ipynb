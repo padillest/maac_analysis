{
 "cells": [
  {
   "cell_type": "code",
   "execution_count": null,
   "id": "09847c75",
   "metadata": {},
   "outputs": [],
   "source": [
    "import pandas as pd\n",
    "import numpy as np\n",
    "\n",
    "from statistics import mean\n",
    "from datetime import timedelta\n",
    "from datetime import datetime"
   ]
  },
  {
   "cell_type": "code",
   "execution_count": null,
   "id": "c13ccbf8",
   "metadata": {},
   "outputs": [],
   "source": [
    "def check_nu_survey(\n",
    "    data: pd.DataFrame, \n",
    "    i: int, \n",
    "    nu_idx: int, \n",
    "    time_window: np.datetime64, \n",
    "    total: int) -> int:\n",
    "    \"\"\"Checks if the survey is a New Use survey and returns corresponding variables.\"\"\"\n",
    "    if data.at[i, \"Survey Name\"] == \"New Use Survey\": \n",
    "        nu_idx = i\n",
    "        time_window = data.at[i, \"survey_submit\"] + timedelta(minutes = 90)\n",
    "        total = 0\n",
    "    \n",
    "    return nu_idx, time_window, total"
   ]
  },
  {
   "cell_type": "code",
   "execution_count": null,
   "id": "e252bd15",
   "metadata": {},
   "outputs": [],
   "source": [
    "def populate_total_fu(\n",
    "    data: pd.DataFrame,\n",
    "    nu_idx: int, \n",
    "    total: int) -> None:\n",
    "    \"\"\"Populates the 'Total Follow Up' variable.\"\"\"\n",
    "    data.at[nu_idx, \"total_fu_num\"] = total"
   ]
  }
 ],
 "metadata": {
  "kernelspec": {
   "display_name": "Python 3 (ipykernel)",
   "language": "python",
   "name": "python3"
  },
  "language_info": {
   "codemirror_mode": {
    "name": "ipython",
    "version": 3
   },
   "file_extension": ".py",
   "mimetype": "text/x-python",
   "name": "python",
   "nbconvert_exporter": "python",
   "pygments_lexer": "ipython3",
   "version": "3.9.13"
  }
 },
 "nbformat": 4,
 "nbformat_minor": 5
}
