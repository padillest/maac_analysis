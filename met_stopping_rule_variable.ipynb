{
 "cells": [
  {
   "cell_type": "code",
   "execution_count": 1,
   "id": "59eb3987",
   "metadata": {},
   "outputs": [],
   "source": [
    "import pandas as pd\n",
    "import numpy as np\n",
    "\n",
    "from statistics import mean\n",
    "from datetime import timedelta\n",
    "from datetime import datetime"
   ]
  },
  {
   "cell_type": "code",
   "execution_count": 2,
   "id": "453eb655",
   "metadata": {},
   "outputs": [],
   "source": [
    "def populate_stop_rule_init(\n",
    "        data: pd.DataFrame, \n",
    "        nu_idx: int) -> None: \n",
    "    \"\"\"Inputs the stop rule for a New Use session.\"\"\"\n",
    "    if data.at[nu_idx, \">_2_init\"] == 1:\n",
    "        data.at[nu_idx, \"met_stop_rule\"] = 1\n",
    "    else: \n",
    "        data.at[nu_idx, \"met_stop_rule\"] = 0"
   ]
  },
  {
   "cell_type": "code",
   "execution_count": 3,
   "id": "42b3ed15",
   "metadata": {},
   "outputs": [],
   "source": [
    "def store_nu_vars(\n",
    "        data: pd.DataFrame, \n",
    "        survey_type: str, \n",
    "        i: int, \n",
    "        nu_idx: int, \n",
    "        time_window: np.datetime64, \n",
    "        count: int) -> int:\n",
    "    \"\"\"Stores the details of a New Use session.\"\"\"\n",
    "    if survey_type == \"New Use Survey\": \n",
    "        nu_idx = i \n",
    "        time_window = data.at[i, \"survey_submit\"] + timedelta(minutes = 90)\n",
    "        count = 0\n",
    "    \n",
    "    return nu_idx, time_window, count"
   ]
  },
  {
   "cell_type": "code",
   "execution_count": 4,
   "id": "7c2c892e",
   "metadata": {},
   "outputs": [],
   "source": [
    "def check_fu_window(\n",
    "        data: pd.DataFrame, \n",
    "        i: int, \n",
    "        time_window: np.datetime64, \n",
    "        survey_type: str) -> bool: \n",
    "    \"\"\"Checks if the Follow Up survey was submitted within the time window.\"\"\"\n",
    "    if survey_type == \"Follow Up Surveys\":\n",
    "        return data.at[i,\"survey_submit\"] < time_window"
   ]
  },
  {
   "cell_type": "code",
   "execution_count": 5,
   "id": "ad83f9d1",
   "metadata": {},
   "outputs": [],
   "source": [
    "def check_session_data_end(\n",
    "        data: pd.DataFrame, \n",
    "        i: int) -> bool: \n",
    "    \"\"\"Checks if at the end of the data or end of the session.\"\"\"\n",
    "    return i == len(data)-1 or data.at[i+1, \"Survey Name\"] == \"New Use Survey\""
   ]
  },
  {
   "cell_type": "code",
   "execution_count": 6,
   "id": "be1fbd3a",
   "metadata": {},
   "outputs": [],
   "source": [
    "def check_sub_use_msr(\n",
    "        data: pd.DataFrame, \n",
    "        i: int, \n",
    "        count: int) -> int:\n",
    "    \"\"\"Checks if substance(s) are used in a Follow Up survey.\"\"\"\n",
    "    if int(data.at[i, \"used_cannabis\"]) == 0 and int(data.at[i, \"used_alcohol\"]) == 0:\n",
    "        count += 1 \n",
    "    else: \n",
    "        count = 0\n",
    "    return count"
   ]
  },
  {
   "cell_type": "code",
   "execution_count": 7,
   "id": "3f47c234",
   "metadata": {},
   "outputs": [],
   "source": [
    "def populate_nu_idx(\n",
    "        data: pd.DataFrame, \n",
    "        nu_idx: int, \n",
    "        count: int) -> None: \n",
    "    if count >= 2: \n",
    "        data.at[nu_idx, \"met_stop_rule\"] = 1\n",
    "    else: \n",
    "        data.at[nu_idx, \"one_met_stop_rule\"] = count"
   ]
  },
  {
   "cell_type": "code",
   "execution_count": 8,
   "id": "ac6d31b9",
   "metadata": {},
   "outputs": [],
   "source": [
    "def update_time_window(\n",
    "        data: pd.DataFrame, \n",
    "        i: int) -> np.datetime64: \n",
    "    \"\"\"Updates the time window of a New Use session.\"\"\"\n",
    "    time_window = data.at[i, \"survey_submit\"] + timedelta(minutes = 90)\n",
    "    return time_window"
   ]
  }
 ],
 "metadata": {
  "kernelspec": {
   "display_name": "Python 3 (ipykernel)",
   "language": "python",
   "name": "python3"
  },
  "language_info": {
   "codemirror_mode": {
    "name": "ipython",
    "version": 3
   },
   "file_extension": ".py",
   "mimetype": "text/x-python",
   "name": "python",
   "nbconvert_exporter": "python",
   "pygments_lexer": "ipython3",
   "version": "3.9.13"
  }
 },
 "nbformat": 4,
 "nbformat_minor": 5
}
